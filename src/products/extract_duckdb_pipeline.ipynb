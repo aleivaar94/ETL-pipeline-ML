{
 "cells": [
  {
   "cell_type": "code",
   "execution_count": 1,
   "id": "0abc580a",
   "metadata": {
    "execution": {
     "iopub.execute_input": "2023-10-26T03:57:29.952081Z",
     "iopub.status.busy": "2023-10-26T03:57:29.952081Z",
     "iopub.status.idle": "2023-10-26T03:57:29.964404Z",
     "shell.execute_reply": "2023-10-26T03:57:29.963522Z"
    },
    "papermill": {
     "duration": 0.017748,
     "end_time": "2023-10-26T03:57:29.966403",
     "exception": false,
     "start_time": "2023-10-26T03:57:29.948655",
     "status": "completed"
    },
    "tags": [
     "parameters"
    ]
   },
   "outputs": [],
   "source": [
    "# declare a list tasks whose products you want to use as inputs\n",
    "upstream = None"
   ]
  },
  {
   "cell_type": "code",
   "execution_count": 2,
   "id": "f8210ea5",
   "metadata": {
    "execution": {
     "iopub.execute_input": "2023-10-26T03:57:29.973538Z",
     "iopub.status.busy": "2023-10-26T03:57:29.972539Z",
     "iopub.status.idle": "2023-10-26T03:57:29.980167Z",
     "shell.execute_reply": "2023-10-26T03:57:29.979239Z"
    },
    "papermill": {
     "duration": 0.011622,
     "end_time": "2023-10-26T03:57:29.981167",
     "exception": false,
     "start_time": "2023-10-26T03:57:29.969545",
     "status": "completed"
    },
    "tags": [
     "injected-parameters"
    ]
   },
   "outputs": [],
   "source": [
    "# Parameters\n",
    "product = {\"nb\": \"C:\\\\Users\\\\Ale\\\\Documents\\\\Data-Science-Projects\\\\Ploomber-2023\\\\ETL-pipeline-ML\\\\src\\\\products\\\\extract_duckdb_pipeline.ipynb\", \"data\": \"C:\\\\Users\\\\Ale\\\\Documents\\\\Data-Science-Projects\\\\Ploomber-2023\\\\ETL-pipeline-ML\\\\src\\\\data\\\\air_data.duckdb\"}\n"
   ]
  },
  {
   "cell_type": "code",
   "execution_count": 3,
   "id": "fa5be004",
   "metadata": {
    "execution": {
     "iopub.execute_input": "2023-10-26T03:57:29.990811Z",
     "iopub.status.busy": "2023-10-26T03:57:29.989807Z",
     "iopub.status.idle": "2023-10-26T03:57:30.838682Z",
     "shell.execute_reply": "2023-10-26T03:57:30.837684Z"
    },
    "papermill": {
     "duration": 0.854512,
     "end_time": "2023-10-26T03:57:30.839680",
     "exception": false,
     "start_time": "2023-10-26T03:57:29.985168",
     "status": "completed"
    },
    "tags": []
   },
   "outputs": [],
   "source": [
    "import requests\n",
    "import pandas as pd\n",
    "import os\n",
    "import duckdb\n",
    "from datetime import datetime\n",
    "from dotenv import load_dotenv\n",
    "from pathlib import Path\n",
    "\n",
    "# Setting pandas to display all columns and rows \n",
    "# pd.set_option('display.max_rows', None)\n",
    "# pd.set_option('display.max_columns', None)"
   ]
  },
  {
   "cell_type": "code",
   "execution_count": 4,
   "id": "bc90133b",
   "metadata": {
    "execution": {
     "iopub.execute_input": "2023-10-26T03:57:30.847300Z",
     "iopub.status.busy": "2023-10-26T03:57:30.846282Z",
     "iopub.status.idle": "2023-10-26T03:57:30.886339Z",
     "shell.execute_reply": "2023-10-26T03:57:30.883875Z"
    },
    "papermill": {
     "duration": 0.044672,
     "end_time": "2023-10-26T03:57:30.887352",
     "exception": false,
     "start_time": "2023-10-26T03:57:30.842680",
     "status": "completed"
    },
    "tags": []
   },
   "outputs": [
    {
     "name": "stdout",
     "output_type": "stream",
     "text": [
      "None\n"
     ]
    }
   ],
   "source": [
    "\n",
    "load_dotenv('.env')\n",
    "api_key = os.getenv('API_KEY')\n",
    "print(api_key)\n",
    "\n",
    "def extract(api_key):\n",
    "    \"\"\"\n",
    "    Fetch and process air quality measurements from the OpenAQ API.\n",
    "\n",
    "    Parameters\n",
    "    ----------\n",
    "    api_key : str\n",
    "        API key for authentication with the OpenAQ API.\n",
    "\n",
    "    Returns\n",
    "    -------\n",
    "    df : pandas.DataFrame\n",
    "        Dataframe containing the fetched measurements.\n",
    "        \n",
    "    Raises\n",
    "    ------\n",
    "    requests.exceptions.HTTPError\n",
    "        For HTTP related errors.\n",
    "    requests.exceptions.ConnectionError\n",
    "        For connection related errors.\n",
    "    requests.exceptions.Timeout\n",
    "        For timeout errors.\n",
    "    requests.exceptions.RequestException\n",
    "        For all other request related errors.\n",
    "    Exception\n",
    "        If the fetched dataframe is empty.\n",
    "\n",
    "    \"\"\"\n",
    "    \n",
    "    # API URL\n",
    "    api_url = \"https://api.openaq.org/v2/measurements\"\n",
    "    \n",
    "    # Define the query parameters to API\n",
    "    params = {\n",
    "        \"location_id\": \"380422\",\n",
    "        \"parameter\": [\"pressure\", \"temperature\", \"um003\", \"um025\", \"um010\", \"pm10\", \"um100\", \"pm1\", \"um005\", \"humidity\", \"um050\", \"pm25\"],\n",
    "        \"limit\": 9000,\n",
    "        \"api_key\": api_key\n",
    "    }\n",
    "    \n",
    "    try:\n",
    "        # Make the GET request\n",
    "        response = requests.get(api_url, params=params, timeout=30)\n",
    "        \n",
    "        # Raise exception for HTTP errors\n",
    "        response.raise_for_status()\n",
    "        \n",
    "        # Check if the request was successful\n",
    "        if response.status_code == 200:\n",
    "            data = response.json()\n",
    "            output = pd.json_normalize(data['results'])\n",
    "            df = pd.DataFrame(output)\n",
    "            \n",
    "            # Check if dataframe is empty\n",
    "            if df.empty:\n",
    "                raise Exception(\"Empty df, check API request\")\n",
    "            \n",
    "            df['date.utc'] = pd.to_datetime(df['date.utc'], errors='coerce') # Convert to datetime\n",
    "            df['date.local'] = df['date.utc'].dt.tz_convert('America/Los_Angeles') # Covert to PST/PDT time zone\n",
    "            df['date.local'] = df['date.local'].dt.tz_localize(None) # Convert to timezone-naive\n",
    "            df = df[df['value'] > 0.0] # Filter values\n",
    "            \n",
    "            return df\n",
    "        \n",
    "    except requests.exceptions.HTTPError as errh:\n",
    "        print(\"Http Error:\", errh)\n",
    "    except requests.exceptions.ConnectionError as errc:\n",
    "        print(\"Error Connecting:\", errc)\n",
    "    except requests.exceptions.Timeout as errt:\n",
    "        print(\"Timeout Error:\", errt)\n",
    "    except requests.exceptions.RequestException as err:\n",
    "        print(\"Error: Something Else\", err)\n",
    "    except Exception as e:\n",
    "        print(e)"
   ]
  },
  {
   "cell_type": "code",
   "execution_count": 5,
   "id": "0aa0fb9b",
   "metadata": {
    "execution": {
     "iopub.execute_input": "2023-10-26T03:57:30.893512Z",
     "iopub.status.busy": "2023-10-26T03:57:30.893512Z",
     "iopub.status.idle": "2023-10-26T03:57:30.900128Z",
     "shell.execute_reply": "2023-10-26T03:57:30.899131Z"
    },
    "papermill": {
     "duration": 0.010698,
     "end_time": "2023-10-26T03:57:30.901211",
     "exception": false,
     "start_time": "2023-10-26T03:57:30.890513",
     "status": "completed"
    },
    "tags": []
   },
   "outputs": [],
   "source": [
    "\n",
    "\n",
    "# Create local DuckDB instance\n",
    "# Define table name\n",
    "table_name = \"air_data\"\n",
    "\n",
    "def init_duckdb(df, table_name, database_directory):\n",
    "    \"\"\"\n",
    "    Initiate a DuckDB instance to create a DuckDB database named \"air_data.duckdb\" inside the\n",
    "    given `database_directory` if it does not already exist. If the specified `table_name`\n",
    "    does not exist in the database, it will be created and the given DataFrame `df`\n",
    "    will be stored in it.\n",
    "\n",
    "    Parameters\n",
    "    ----------\n",
    "    df : pandas.DataFrame\n",
    "        The DataFrame to be registered and stored in the DuckDB database.\n",
    "    table_name : str\n",
    "        Name of the table in which the DataFrame should be stored.\n",
    "    database_directory : str\n",
    "        Directory path where the DuckDB database file (\"air_data.duckdb\") will be located.\n",
    "\n",
    "    Returns\n",
    "    -------\n",
    "    None\n",
    "\n",
    "    \"\"\"\n",
    "    duckdb_directory = os.path.join(database_directory, \"air_data.duckdb\")\n",
    "    con = duckdb.connect(duckdb_directory)\n",
    "    con.register('df', df)\n",
    "    \n",
    "    # Check if table already exists, if not, create it\n",
    "    tables = con.execute(\"SHOW TABLES\").fetchall()\n",
    "    if table_name not in [table[0] for table in tables]:\n",
    "        con.execute(f\"CREATE TABLE {table_name} AS SELECT * FROM df\")\n",
    "    \n",
    "    con.close()"
   ]
  },
  {
   "cell_type": "code",
   "execution_count": 6,
   "id": "2a30ac6c",
   "metadata": {
    "execution": {
     "iopub.execute_input": "2023-10-26T03:57:30.905219Z",
     "iopub.status.busy": "2023-10-26T03:57:30.905219Z",
     "iopub.status.idle": "2023-10-26T03:57:30.914859Z",
     "shell.execute_reply": "2023-10-26T03:57:30.914859Z"
    },
    "lines_to_next_cell": 1,
    "papermill": {
     "duration": 0.014213,
     "end_time": "2023-10-26T03:57:30.917420",
     "exception": false,
     "start_time": "2023-10-26T03:57:30.903207",
     "status": "completed"
    },
    "tags": []
   },
   "outputs": [
    {
     "name": "stdout",
     "output_type": "stream",
     "text": [
      "None\n"
     ]
    }
   ],
   "source": [
    "# Get MotherDuck token\n",
    "md_token = os.getenv('MOTHERDUCK_TOKEN')\n",
    "print(md_token)\n",
    "\n",
    "def load_into_motherduck(md_token):\n",
    "    \"\"\"\n",
    "    Load data from a local DuckDB instance to MotherDuck.\n",
    "\n",
    "    Parameters\n",
    "    ----------\n",
    "    md_token : str\n",
    "        The MotherDuck token.\n",
    "\n",
    "    Returns\n",
    "    -------\n",
    "    None\n",
    "    \"\"\"\n",
    "\n",
    "    # Check if MotherDuck token is set\n",
    "    assert md_token and md_token.strip() != '', \"MOTHERDUCK_TOKEN is not set or is empty.\"\n",
    "\n",
    "    # Initiate the MotherDuck connection with token\n",
    "    local_con = duckdb.connect(f'md:?motherduck_token={md_token}')\n",
    "\n",
    "    # Load MotherDuck extension\n",
    "    local_con.execute(\"LOAD motherduck\")\n",
    "\n",
    "    # Load air_data.duckdb database into MotherDuck database named openaq_api\n",
    "    local_con.execute(\"CREATE OR REPLACE TABLE openaq_api.main.df as SELECT * FROM 'df'\")"
   ]
  },
  {
   "cell_type": "code",
   "execution_count": 7,
   "id": "12956cf0",
   "metadata": {
    "execution": {
     "iopub.execute_input": "2023-10-26T03:57:30.922863Z",
     "iopub.status.busy": "2023-10-26T03:57:30.922863Z",
     "iopub.status.idle": "2023-10-26T03:57:30.930677Z",
     "shell.execute_reply": "2023-10-26T03:57:30.929748Z"
    },
    "papermill": {
     "duration": 0.013197,
     "end_time": "2023-10-26T03:57:30.932677",
     "exception": false,
     "start_time": "2023-10-26T03:57:30.919480",
     "status": "completed"
    },
    "tags": []
   },
   "outputs": [
    {
     "name": "stdout",
     "output_type": "stream",
     "text": [
      "None\n",
      "None\n"
     ]
    }
   ],
   "source": [
    "load_dotenv('.env')\n",
    "api_key = os.getenv('API_KEY')\n",
    "print(api_key)\n",
    "\n",
    "# Get MotherDuck token\n",
    "md_token = os.getenv('MOTHERDUCK_TOKEN')\n",
    "print(md_token)"
   ]
  },
  {
   "cell_type": "code",
   "execution_count": 8,
   "id": "151f79c0",
   "metadata": {
    "execution": {
     "iopub.execute_input": "2023-10-26T03:57:30.942501Z",
     "iopub.status.busy": "2023-10-26T03:57:30.941501Z",
     "iopub.status.idle": "2023-10-26T03:57:33.985035Z",
     "shell.execute_reply": "2023-10-26T03:57:33.984042Z"
    },
    "papermill": {
     "duration": 3.04928,
     "end_time": "2023-10-26T03:57:33.986554",
     "exception": false,
     "start_time": "2023-10-26T03:57:30.937274",
     "status": "completed"
    },
    "tags": []
   },
   "outputs": [],
   "source": [
    "if __name__ == \"__main__\":\n",
    "    # Load API key from .env file\n",
    "    load_dotenv('.env')\n",
    "    api_key = os.getenv('API_KEY')\n",
    "\n",
    "    # Get MotherDuck token\n",
    "    md_token = os.getenv('MOTHERDUCK_TOKEN')\n",
    "    \n",
    "    # Call extract function\n",
    "    df = extract(api_key)\n",
    "\n",
    "    # Define table name\n",
    "    table_name = \"air_data\"\n",
    "\n",
    "    # Define current working directory\n",
    "    current_dir = os.getcwd()\n",
    "\n",
    "    # Define directory to store DuckDB database\n",
    "    database_directory = os.path.join(current_dir, \"src\", \"data\")\n",
    "\n",
    "    # Call init_duckdb function\n",
    "    init_duckdb(df, table_name, database_directory)\n",
    "\n",
    "    # load_into_motherduck(md_token)"
   ]
  }
 ],
 "metadata": {
  "jupytext": {
   "cell_metadata_filter": "tags,-all",
   "main_language": "python",
   "notebook_metadata_filter": "-all",
   "text_representation": {
    "extension": ".py",
    "format_name": "percent"
   }
  },
  "kernelspec": {
   "display_name": "Python 3 (ipykernel)",
   "language": "python",
   "name": "python3"
  },
  "language_info": {
   "codemirror_mode": {
    "name": "ipython",
    "version": 3
   },
   "file_extension": ".py",
   "mimetype": "text/x-python",
   "name": "python",
   "nbconvert_exporter": "python",
   "pygments_lexer": "ipython3",
   "version": "3.10.13"
  },
  "papermill": {
   "duration": 5.644649,
   "end_time": "2023-10-26T03:57:34.218454",
   "exception": null,
   "input_path": "C:\\Users\\Ale\\AppData\\Local\\Temp\\tmpf8oicgiz.ipynb",
   "output_path": "C:\\Users\\Ale\\Documents\\Data-Science-Projects\\Ploomber-2023\\ETL-pipeline-ML\\src\\products\\extract_duckdb_pipeline.ipynb",
   "parameters": {
    "product": {
     "data": "C:\\Users\\Ale\\Documents\\Data-Science-Projects\\Ploomber-2023\\ETL-pipeline-ML\\src\\data\\air_data.duckdb",
     "nb": "C:\\Users\\Ale\\Documents\\Data-Science-Projects\\Ploomber-2023\\ETL-pipeline-ML\\src\\products\\extract_duckdb_pipeline.ipynb"
    }
   },
   "start_time": "2023-10-26T03:57:28.573805"
  }
 },
 "nbformat": 4,
 "nbformat_minor": 5
}